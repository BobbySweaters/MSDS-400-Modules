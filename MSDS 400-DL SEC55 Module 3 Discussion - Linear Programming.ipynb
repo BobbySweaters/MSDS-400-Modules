{
 "cells": [
  {
   "attachments": {},
   "cell_type": "markdown",
   "metadata": {},
   "source": [
    "A consulting firm offers consulting services at two levels of staff, staff A and B. the cost of each staff is 8 USD and hour and 14 USD an hour of staff A & B respectively. Based on billing rates, one hour of staff A yields a profit of 2 USD and staff B yields a profit of 3 USD. The consulting firm estimates no more than 2000 hours total can be worked on an engagement for 6 months for the two staff combined, and a client is not willing to pay more than 20,000 USD for the consulting services for an engagement. How many hours should each staff work on the engagement to maximize total profit?\n"
   ]
  },
  {
   "attachments": {},
   "cell_type": "markdown",
   "metadata": {},
   "source": [
    "1. Let x be the total number of hours A and y the number of hours B; x and y cannot be negative, hence:\n",
    "\n",
    "   x ≥ 0 and y ≥ 0\n"
   ]
  },
  {
   "cell_type": "markdown",
   "metadata": {},
   "source": [
    "2. The consulting firm estimates that no more than 2000 hours will be worked in the 6-month period given by:\n",
    "\n",
    "   x + y ≤ 2000"
   ]
  },
  {
   "attachments": {},
   "cell_type": "markdown",
   "metadata": {},
   "source": [
    "3. One hour of staff A yields a profit of 2 USD while one hour of staff B yields a profit of 3 USD, hence the total      profit P is given by:\n",
    "\n",
    "   P = 2 x + 3 y"
   ]
  },
  {
   "attachments": {},
   "cell_type": "markdown",
   "metadata": {},
   "source": [
    "4. The firm pays 8 USD and 14 USD to staff for each one hour of staff A and B respectively and they are not planning    to charge more than 20,000 USD worth of consulting services to the client\n",
    "\n",
    "   8 x + 14 y ≤ 20,000\n"
   ]
  },
  {
   "attachments": {},
   "cell_type": "markdown",
   "metadata": {},
   "source": [
    "**Maximize** <br>\n",
    "P = 2 x + 3 y\n",
    "\n",
    "**Subject to:**<br>\n",
    "x + y ≤ 2000 <br>\n",
    "\n",
    "8x+14y ≤ 20,000 <br>\n",
    "\n",
    "x≥0 y≥0\n"
   ]
  },
  {
   "cell_type": "markdown",
   "metadata": {},
   "source": [
    "**Solution:**  Maximum is 4666 when x = 1333, y = 666"
   ]
  },
  {
   "cell_type": "code",
   "execution_count": 2,
   "metadata": {},
   "outputs": [
    {
     "name": "stdout",
     "output_type": "stream",
     "text": [
      "Scipy Optimize Optimal value: -4666.666138127195 \n",
      " x1, x2, : [1333.33329787  666.66651413]\n",
      "\n",
      "\n"
     ]
    }
   ],
   "source": [
    "# Solution using linprog from Scipy.optimize\n",
    "# https://docs.scipy.org/doc/scipy-0.15.1/reference/generated/scipy.optimize.linprog.html\n",
    "\n",
    "from scipy.optimize import linprog\n",
    "\n",
    "# coefficients of objective function\n",
    "z = [-2, -3,] \n",
    "\n",
    "# coefficients of the left-hand side of the inequalities\n",
    "lhs = [[1, 1,], [8, 14,]]\n",
    "\n",
    "# coefficients of the right-hand side of the inequalities\n",
    "rhs = [2000, 20000]\n",
    "\n",
    "# set the bounds for the variables\n",
    "x1_bounds = (0, None)\n",
    "x2_bounds = (0, None)\n",
    "\n",
    "\n",
    "method='simplex'\n",
    "\n",
    "res = linprog(c=z, A_ub=lhs, b_ub=rhs,  bounds=(x1_bounds,x2_bounds,))\n",
    "\n",
    "# See scipy documentation for additional details about scipy.optimize.OptimizeResult \n",
    "# https://docs.scipy.org/doc/scipy-0.15.1/reference/generated/scipy.optimize.linprog.html\n",
    "\n",
    "# Print optimal values of x1, x2, x3 and x4 \n",
    "print('Scipy Optimize Optimal value:', res.fun, '\\n x1, x2, :', res.x)\n",
    "print('\\n')"
   ]
  },
  {
   "cell_type": "markdown",
   "metadata": {},
   "source": [
    "### Alternative Solution using Pulp Python package\n",
    "#### Note: The use of pulp to solve maximization/minimization problems is optional.\n",
    "#### ** Instructions for installing pulp package **\n",
    "##### http://pythonhosted.org/PuLP/main/installing_pulp_at_home.html\n"
   ]
  },
  {
   "cell_type": "code",
   "execution_count": 5,
   "metadata": {},
   "outputs": [
    {
     "name": "stdout",
     "output_type": "stream",
     "text": [
      "Requirement already satisfied: pulp in /opt/anaconda3/lib/python3.8/site-packages (2.4)\r\n",
      "Requirement already satisfied: amply>=0.1.2 in /opt/anaconda3/lib/python3.8/site-packages (from pulp) (0.1.4)\r\n",
      "Requirement already satisfied: docutils>=0.3 in /opt/anaconda3/lib/python3.8/site-packages (from amply>=0.1.2->pulp) (0.16)\r\n",
      "Requirement already satisfied: pyparsing in /opt/anaconda3/lib/python3.8/site-packages (from amply>=0.1.2->pulp) (2.4.7)\r\n"
     ]
    }
   ],
   "source": [
    "!pip install pulp"
   ]
  },
  {
   "cell_type": "code",
   "execution_count": 6,
   "metadata": {},
   "outputs": [
    {
     "name": "stdout",
     "output_type": "stream",
     "text": [
      "Pulp Solution for x1, x2\n",
      "1333.3333\n",
      "666.66667\n"
     ]
    }
   ],
   "source": [
    "from pulp import LpVariable, LpProblem, LpMaximize, LpStatus, value, LpMinimize\n",
    "\n",
    "# declare your variables\n",
    "x1 = LpVariable(\"x1\", 0, None) # x1>=0\n",
    "x2 = LpVariable(\"x2\", 0, None) # x2>=0\n",
    "\n",
    "\n",
    "\n",
    "# defines the problem\n",
    "prob = LpProblem(\"problem\", LpMaximize)\n",
    "\n",
    "# defines the constraints\n",
    "prob += x1 + x2  <= 2000\n",
    "prob += 8*x1 + 14*x2 <= 20000\n",
    "\n",
    "# defines the objective function to maximize\n",
    "prob += 2*x1 + 3*x2\n",
    "\n",
    "# solve the problem\n",
    "status = prob.solve()\n",
    "LpStatus[status]\n",
    "\n",
    "# print the results\n",
    "print(\"Pulp Solution for x1, x2\")\n",
    "print(value(x1))\n",
    "print(value(x2))"
   ]
  },
  {
   "cell_type": "code",
   "execution_count": null,
   "metadata": {},
   "outputs": [],
   "source": []
  }
 ],
 "metadata": {
  "kernelspec": {
   "display_name": "Python 3",
   "language": "python",
   "name": "python3"
  },
  "language_info": {
   "codemirror_mode": {
    "name": "ipython",
    "version": 3
   },
   "file_extension": ".py",
   "mimetype": "text/x-python",
   "name": "python",
   "nbconvert_exporter": "python",
   "pygments_lexer": "ipython3",
   "version": "3.8.5"
  }
 },
 "nbformat": 4,
 "nbformat_minor": 4
}
