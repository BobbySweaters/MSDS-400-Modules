{
 "cells": [
  {
   "cell_type": "markdown",
   "metadata": {},
   "source": [
    "Identify the relevant information given to you in the application problem below. <br>\n",
    "Use that information to answer the questions that follow.<br>\n",
    "\n",
    "Round your answers to two decimal places as needed"
   ]
  },
  {
   "cell_type": "markdown",
   "metadata": {},
   "source": [
    "Gustavo got a job selling light sabers at the local star wars convention. He is paid a small fixed amount plus a percent of each light saber he sells. The table below shows how much he gets paid depending on the number of light sabers sold. Use that table to answer the following questions. The data is exactly linear."
   ]
  },
  {
   "cell_type": "markdown",
   "metadata": {},
   "source": [
    "<h1> Table <h1>"
   ]
  },
  {
   "cell_type": "markdown",
   "metadata": {},
   "source": [
    "|Items Sold (x)||Pay (in dollars) (y)|\n",
    "|-:||-:|\n",
    "|10||558.5|\n",
    "|50||511.7|\n",
    "|100||617|\n",
    "|500||1085|\n",
    "|1000||1670|\n",
    "|5000||6350|"
   ]
  },
  {
   "cell_type": "code",
   "execution_count": 6,
   "metadata": {},
   "outputs": [],
   "source": [
    "import matplotlib.pyplot \n",
    "from matplotlib.pyplot import *\n",
    "import numpy \n",
    "from numpy import linspace"
   ]
  },
  {
   "cell_type": "code",
   "execution_count": 16,
   "metadata": {},
   "outputs": [
    {
     "data": {
      "text/plain": [
       "1.1700000000000004"
      ]
     },
     "execution_count": 16,
     "metadata": {},
     "output_type": "execute_result"
    }
   ],
   "source": [
    "x1= 10.0\n",
    "y1= 511.7\n",
    "x2= 50.0\n",
    "y2= 558.5\n",
    "slope= (y2-y1)/(x2-x1)\n",
    "slope"
   ]
  },
  {
   "cell_type": "code",
   "execution_count": 17,
   "metadata": {},
   "outputs": [
    {
     "name": "stdout",
     "output_type": "stream",
     "text": [
      "\n",
      "Value of y if x is 0.0 equals 500.0\n"
     ]
    }
   ],
   "source": [
    "x= 0.0\n",
    "y= y1 + slope*(x-x1)\n",
    "print('\\nValue of y if x is 0.0 equals {}'.format(y))"
   ]
  },
  {
   "cell_type": "code",
   "execution_count": 18,
   "metadata": {},
   "outputs": [
    {
     "name": "stdout",
     "output_type": "stream",
     "text": [
      "Equation of a line is y = y1 + slope*(x-x1)\n",
      "x1 equals 10.0 and y1 equals 511.7\n"
     ]
    }
   ],
   "source": [
    "equation= str('y = y1 + slope*(x-x1)')\n",
    "print('Equation of a line is', equation)\n",
    "print('x1 equals {} and y1 equals {}'.format(x1, y1))"
   ]
  },
  {
   "cell_type": "code",
   "execution_count": 21,
   "metadata": {},
   "outputs": [
    {
     "data": {
      "image/png": "[encoded data removed]",
      "text/plain": [
       "<Figure size 432x288 with 1 Axes>"
      ]
     },
     "metadata": {
      "needs_background": "light"
     },
     "output_type": "display_data"
    }
   ],
   "source": [
    "x= linspace(-1,390,100)\n",
    "y= 500 - 1.17*x  \n",
    "title('Plot of Linear Equation  '+equation)  # Note how the title appears.\n",
    "plot(x,y)\n",
    "show()"
   ]
  },
  {
   "cell_type": "code",
   "execution_count": 31,
   "metadata": {},
   "outputs": [
    {
     "name": "stdout",
     "output_type": "stream",
     "text": [
      "slope =  30.0\n",
      "intercept =  11.25\n",
      "The distance a driver would have traveled after 10 hours would be 311.25 miles.\n",
      "correlation coefficient =  0.989\n"
     ]
    }
   ],
   "source": [
    "from scipy import stats\n",
    "x = [0, 1, 2, 3, 4, 5, 6, 7,]\n",
    "y = [0, 43, 86, 110, 121, 150, 204, 216,]\n",
    "slope, intercept, r_value, p_value, std_err = stats.linregress(x, y)\n",
    "predict_hours = 10 * slope + intercept\n",
    "print(\"slope = \", round(slope, 2))\n",
    "print(\"intercept = \", round(intercept, 2))\n",
    "print(\"The distance a driver would have traveled after 10 hours would be\", round(predict_hours, 2), \"miles.\")\n",
    "print(\"correlation coefficient = \", round(r_value, 4))"
   ]
  },
  {
   "cell_type": "code",
   "execution_count": null,
   "metadata": {},
   "outputs": [],
   "source": []
  }
 ],
 "metadata": {
  "kernelspec": {
   "display_name": "Python 3",
   "language": "python",
   "name": "python3"
  },
  "language_info": {
   "codemirror_mode": {
    "name": "ipython",
    "version": 3
   },
   "file_extension": ".py",
   "mimetype": "text/x-python",
   "name": "python",
   "nbconvert_exporter": "python",
   "pygments_lexer": "ipython3",
   "version": "3.8.5"
  }
 },
 "nbformat": 4,
 "nbformat_minor": 4
}
